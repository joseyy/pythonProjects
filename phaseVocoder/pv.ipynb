{
 "cells": [
  {
   "cell_type": "code",
   "execution_count": 1,
   "metadata": {},
   "outputs": [],
   "source": [
    "import numpy as np"
   ]
  },
  {
   "cell_type": "code",
   "execution_count": 2,
   "metadata": {},
   "outputs": [],
   "source": [
    "# Info about the wav file\n",
    "def info_wav(file):\n",
    "    with open(file, 'rb') as f:\n",
    "        # Read the header\n",
    "        header = f.read(44)\n",
    "        # Get number of channels\n",
    "        channels = header[22]\n",
    "        # Get sample rate\n",
    "        sample_rate = int.from_bytes(header[24:28], byteorder='little')\n",
    "        # Get bits per sample\n",
    "        bits_per_sample = int.from_bytes(header[34:36], byteorder='little')\n",
    "        # Get data size\n",
    "        data_size = int.from_bytes(header[40:44], byteorder='little')\n",
    "    return channels, sample_rate, bits_per_sample, data_size\n",
    "\n",
    "# Read shunk of data from wav file\n",
    "def read_wav(file, size):\n",
    "    # Check if file is opened in binary mode\n",
    "    if 'rb' not in file.mode:\n",
    "        raise ValueError('File must be opened in binary mode')\n",
    "    # Read data\n",
    "    data = file.read(size)\n",
    "    return data\n",
    "\n",
    "def read_overlap(file, size, overlap):\n",
    "    # Check if file is opened in binary mode\n",
    "    if 'rb' not in file.mode:\n",
    "        raise ValueError('File must be opened in binary mode')\n",
    "    # Read data\n",
    "    data = file.read(size)\n",
    "    # Set the file pointer to the beginning of the overlap\n",
    "    file.seek(-overlap, 1)\n",
    "    return data\n",
    "\n",
    "def sfft(data, sample_rate, reference):\n",
    "    # Convert data to numpy array\n",
    "    data = np.frombuffer(data, dtype=np.float32)\n",
    "    # Apply window function\n",
    "    data *= np.hanning(len(data))\n",
    "    # Apply FFT\n",
    "    fft_data = np.fft.fft(data)\n",
    "    # Calculate phase difference\n",
    "    phase_difference = np.angle(np.fft.fft(reference)) - np.angle(fft_data)\n",
    "    # Apply phase correction\n",
    "    corrected_fft_data = np.abs(fft_data) * np.exp(1j*phase_difference)\n",
    "    return corrected_fft_data\n",
    "\n",
    "def sifft(data):\n",
    "    # Apply inverse FFT\n",
    "    ifft_data = np.fft.ifft(data)\n",
    "    return ifft_data\n",
    "\n",
    "def write_wav_overlap(file, data, overlap):\n",
    "    # Check if file is opened in binary mode\n",
    "    if 'wb' not in file.mode:\n",
    "        raise ValueError('File must be opened in binary mode')\n",
    "    # Make data is uint8\n",
    "    data = np.array(data, dtype=np.uint8)\n",
    "    # Write data\n",
    "    \n",
    "    \n",
    "    "
   ]
  },
  {
   "cell_type": "code",
   "execution_count": 3,
   "metadata": {},
   "outputs": [
    {
     "name": "stdout",
     "output_type": "stream",
     "text": [
      "Channels: 1\n",
      "Sample rate: 11025\n",
      "Bits per sample: 8\n",
      "Data size: 17344\n"
     ]
    }
   ],
   "source": [
    "channels, sample_rate, bits_per_sample, data_size = info_wav('../available.wav')\n",
    "print('Channels:', channels)\n",
    "print('Sample rate:', sample_rate)\n",
    "print('Bits per sample:', bits_per_sample)\n",
    "print('Data size:', data_size)\n"
   ]
  },
  {
   "cell_type": "code",
   "execution_count": 4,
   "metadata": {},
   "outputs": [
    {
     "data": {
      "text/plain": [
       "b'RIFF\\x9aD\\x00\\x00WAVEfmt \\x10\\x00\\x00\\x00\\x01\\x00\\x01\\x00\\x11+\\x00\\x00\\x11+\\x00\\x00\\x01\\x00\\x08\\x00data\\xc0C\\x00\\x00\\x80\\x80\\x80\\x80\\x80\\x80\\x80\\x80\\x80\\x80\\x80\\x80\\x80\\x80\\x80\\x80\\x7f\\x80\\x7f\\x7f\\x80\\x7f\\x80\\x80\\x80\\x80\\x7f\\x7f\\x80\\x80\\x7f\\x80\\x7f\\x7f\\x80\\x80\\x80\\x7f\\x80\\x80\\x80\\x7f\\x80\\x7f\\x80\\x80\\x80\\x80\\x80\\x80\\x80\\x80\\x80\\x80\\x80\\x80'"
      ]
     },
     "execution_count": 4,
     "metadata": {},
     "output_type": "execute_result"
    }
   ],
   "source": []
  },
  {
   "cell_type": "code",
   "execution_count": null,
   "metadata": {},
   "outputs": [],
   "source": []
  }
 ],
 "metadata": {
  "kernelspec": {
   "display_name": "base",
   "language": "python",
   "name": "python3"
  },
  "language_info": {
   "codemirror_mode": {
    "name": "ipython",
    "version": 3
   },
   "file_extension": ".py",
   "mimetype": "text/x-python",
   "name": "python",
   "nbconvert_exporter": "python",
   "pygments_lexer": "ipython3",
   "version": "3.12.2"
  }
 },
 "nbformat": 4,
 "nbformat_minor": 2
}
